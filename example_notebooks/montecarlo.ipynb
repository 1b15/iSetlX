{
 "cells": [
  {
   "cell_type": "markdown",
   "metadata": {},
   "source": [
    "This program computes pi using a monte carlo algorithm which uses random()\n",
    "\n",
    "Essentially it creates random points in a coordinate system,\n",
    "with 0 <= x <=1 and 0 <= y <=1 and computes if they are within a unit circle\n",
    "with is centered at 0,0.\n",
    "\n",
    "number of points within this cirle devided by all points is around a\n",
    "quarter of pi\n"
   ]
  },
  {
   "cell_type": "code",
   "execution_count": 1,
   "metadata": {},
   "outputs": [],
   "source": [
    "// how many random points to create?\n",
    "n := 50000;\n",
    "\n",
    "// number of points found to be in the circle\n",
    "inCircle := 0;\n",
    "\n",
    "for (x in [1 .. n]) {\n",
    "    // is this random point in circle?\n",
    "    if ( sqrt(random() ** 2 + random() ** 2) <= 1) {\n",
    "        inCircle += 1;\n",
    "    }\n",
    "}"
   ]
  },
  {
   "cell_type": "code",
   "execution_count": 2,
   "metadata": {},
   "outputs": [
    {
     "name": "stdout",
     "output_type": "stream",
     "text": [
      "pi := 39273/12500 (or 3.14184), which is almost 3.141592653589793\n",
      "~< Result: om >~\n"
     ]
    }
   ],
   "source": [
    "pseudoPi := 4 * inCircle / n;\n",
    "print(\"pi := $ pseudoPi $ (or $ nDecimalPlaces(pseudoPi, 5) $), which is almost $mathConst(\\\"pi\\\")$\");"
   ]
  },
  {
   "cell_type": "code",
   "execution_count": null,
   "metadata": {},
   "outputs": [],
   "source": []
  }
 ],
 "metadata": {
  "kernelspec": {
   "display_name": "iSetlX",
   "language": "SetlX",
   "name": "isetlx"
  },
  "language_info": {
   "codemirror_mode": "text/x-java",
   "file_extension": ".stlx",
   "mimetype": "text/setlx",
   "name": "SetlX"
  }
 },
 "nbformat": 4,
 "nbformat_minor": 4
}
